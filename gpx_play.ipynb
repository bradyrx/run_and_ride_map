{
 "cells": [
  {
   "cell_type": "code",
   "execution_count": 20,
   "metadata": {
    "collapsed": false
   },
   "outputs": [],
   "source": [
    "import gpxpy\n",
    "import gpxpy.gpx\n",
    "from glob import glob\n",
    "import os\n",
    "import datetime\n",
    "import pandas as pd\n",
    "from pandas import DataFrame\n",
    "import matplotlib.pyplot as plt\n",
    "import numpy as np\n",
    "import seawater as sw\n",
    "import mplleaflet\n",
    "\n",
    "%matplotlib inline"
   ]
  },
  {
   "cell_type": "code",
   "execution_count": 51,
   "metadata": {
    "collapsed": false
   },
   "outputs": [],
   "source": [
    "# This function will loop through and pull in all of the GPX files, accounting for activity type.\n",
    "def load_data(gpx_path, filter=\"\"):\n",
    "    gpx_files = glob(os.path.join(gpx_path, filter + \"*.gpx\"))\n",
    "    activity_data = []\n",
    "    counter = 0 # Use to index each new activity to plot each activity in layers. \n",
    "    for file_idx, gpx_file in enumerate(gpx_files): \n",
    "        gpx = gpxpy.parse(open(gpx_file, 'r'))\n",
    "        counter = counter + 1\n",
    "        # Loop through tracks\n",
    "        for track_idx, track in enumerate(gpx.tracks):\n",
    "            track_name = track.name\n",
    "            track_time = track.get_time_bounds().start_time\n",
    "            track_length = track.length_3d()\n",
    "            track_duration = track.get_duration()\n",
    "            track_speed = track.get_moving_data().max_speed\n",
    "            \n",
    "            for seg_idx, segment in enumerate(track.segments):\n",
    "                segment_length = segment.length_3d()\n",
    "                for point_idx, point in enumerate(segment.points):\n",
    "                    activity_data.append([counter, os.path.basename(gpx_file), track_idx, track_name, \n",
    "                                     track_time, track_length, track_duration, track_speed, \n",
    "                                     seg_idx, segment_length, point.time, point.latitude, \n",
    "                                     point.longitude, point.elevation, segment.get_speed(point_idx)])\n",
    "    return activity_data\n",
    "\n",
    "# This function forces the .gpx files into a DataFrame\n",
    "def df_activity(activity):\n",
    "    df = DataFrame(activity, columns=['File_Index', 'File_Name', 'Index', 'Name',\n",
    "                              'Time', 'Length', 'Duration', 'Max_Speed',\n",
    "                              'Segment_Index', 'Segment_Length', 'Point_Time', 'Point_Latitude',\n",
    "                              'Point_Longitude', 'Point_Elevation', 'Point_Speed'])\n",
    "    return df\n",
    "\n",
    "# Clean up the gpx DataFrames\n",
    "def clean_df(df, cols):\n",
    "    tracks = df[cols].copy()\n",
    "    tracks['Length'] /= 1e3\n",
    "    tracks.drop_duplicates(inplace=True)\n",
    "    return tracks\n",
    "\n",
    "# Actually set up the plot.\n",
    "def plot_activity(ax, df, seg_count, color=\"#000000\"):\n",
    "    for idx in seg_count:\n",
    "        locs = df[df['File_Index'] == idx].index.tolist()\n",
    "        ax.plot(df['Point_Longitude'][locs], df['Point_Latitude'][locs],\n",
    "            color=color, linewidth=2, alpha=1)"
   ]
  },
  {
   "cell_type": "code",
   "execution_count": 17,
   "metadata": {
    "collapsed": false
   },
   "outputs": [],
   "source": [
    "# I bulk downloaded my activities (that were valid .gpx files) from my Strava settings and used shell \n",
    "# globbing to move them to appropriate folders under ./dat.\n",
    "run_data  = load_data(gpx_path=\"./dat/run/\", filter=\"\")\n",
    "ride_data = load_data(gpx_path=\"./dat/ride/\", filter=\"\")\n",
    "hike_data = load_data(gpx_path=\"./dat/hike/\", filter=\"\")\n",
    "ski_data  = load_data(gpx_path=\"./dat/ski/\", filter=\"\")\n",
    "snow_data = load_data(gpx_path=\"./dat/snowshoe/\", filter=\"\")\n",
    "\n",
    "# Push the .gpx layers into a DataFrame for easy plotting.\n",
    "df_run    = df_activity(run_data)\n",
    "df_ride   = df_activity(ride_data)\n",
    "df_hike   = df_activity(hike_data)\n",
    "df_ski    = df_activity(ski_data)\n",
    "df_snow   = df_activity(snow_data)"
   ]
  },
  {
   "cell_type": "code",
   "execution_count": 18,
   "metadata": {
    "collapsed": true
   },
   "outputs": [],
   "source": [
    "cols = ['File_Index', 'Time', 'Length', 'Duration', 'Max_Speed']\n",
    "\n",
    "tracks_run  = clean_df(df_run, cols)\n",
    "tracks_ride = clean_df(df_ride, cols)\n",
    "tracks_hike = clean_df(df_hike, cols)\n",
    "tracks_ski  = clean_df(df_ski, cols)\n",
    "tracks_snow = clean_df(df_snow, cols)"
   ]
  },
  {
   "cell_type": "code",
   "execution_count": 19,
   "metadata": {
    "collapsed": false
   },
   "outputs": [],
   "source": [
    "# Find maximum value for the DataFrame and create an enumerated list of numbers 1 -> max, looping through this\n",
    "# to individually lay down routes.\n",
    "numSegs = df_run['File_Index'].max()\n",
    "seg_count_run = np.arange(1,numSegs + 1) # Second number is not inclusive\n",
    "\n",
    "numSegs = df_ride['File_Index'].max()\n",
    "seg_count_ride = np.arange(1,numSegs + 1) \n",
    "\n",
    "numSegs = df_hike['File_Index'].max()\n",
    "seg_count_hike = np.arange(1,numSegs + 1) \n",
    "\n",
    "numSegs = df_ski['File_Index'].max()\n",
    "seg_count_ski = np.arange(1,numSegs + 1) \n",
    "\n",
    "numSegs = df_snow['File_Index'].max()\n",
    "seg_count_snow = np.arange(1,numSegs + 1) "
   ]
  },
  {
   "cell_type": "code",
   "execution_count": 54,
   "metadata": {
    "collapsed": false,
    "scrolled": true
   },
   "outputs": [],
   "source": [
    "fig, ax = plt.subplots()\n",
    "\n",
    "# Just drop columns with NaN... usually only the first.\n",
    "df_run  = df_run.dropna() \n",
    "df_ride = df_ride.dropna()\n",
    "df_hike = df_hike.dropna()\n",
    "df_ski  = df_ski.dropna()\n",
    "df_snow = df_snow.dropna()\n",
    "\n",
    "plot_activity(ax, df_run, seg_count_run, color=\"#fbb4ae\")\n",
    "plot_activity(ax, df_ride, seg_count_ride, color=\"#decbe4\")\n",
    "plot_activity(ax, df_hike, seg_count_hike, color=\"#e5d8bd\")\n",
    "plot_activity(ax, df_ski, seg_count_ski, color=\"#fed9a6\")\n",
    "plot_activity(ax, df_snow, seg_count_snow, color=\"#fed9a6\")\n",
    "\n",
    "# Can go into _map.html that is rendered and adjust the javascript to change e.g. default zoom. Look at D3/JS tutorials \n",
    "# using mplleaflet. For example, do map.setView([40.02, -105.27], 13) to default to Boulder.\n",
    "mplleaflet.show(fig=fig, tiles=\"cartodb_positron\") \n"
   ]
  }
 ],
 "metadata": {
  "anaconda-cloud": {},
  "kernelspec": {
   "display_name": "Python 3",
   "language": "python",
   "name": "python3"
  },
  "language_info": {
   "codemirror_mode": {
    "name": "ipython",
    "version": 3
   },
   "file_extension": ".py",
   "mimetype": "text/x-python",
   "name": "python",
   "nbconvert_exporter": "python",
   "pygments_lexer": "ipython3",
   "version": "3.6.0"
  }
 },
 "nbformat": 4,
 "nbformat_minor": 1
}
