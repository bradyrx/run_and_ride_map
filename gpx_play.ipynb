{
 "cells": [
  {
   "cell_type": "code",
   "execution_count": 90,
   "metadata": {
    "collapsed": true
   },
   "outputs": [],
   "source": [
    "import gpxpy\n",
    "import gpxpy.gpx\n",
    "from glob import glob\n",
    "import os\n",
    "import datetime\n",
    "import pandas as pd\n",
    "from pandas import DataFrame\n",
    "import matplotlib.pyplot as plt\n",
    "import numpy as np\n",
    "import seawater as sw\n",
    "import mplleaflet"
   ]
  },
  {
   "cell_type": "code",
   "execution_count": 91,
   "metadata": {
    "collapsed": false
   },
   "outputs": [],
   "source": [
    "def load_run_data(gpx_path, filter=\"\"):\n",
    "    gpx_files = glob(os.path.join(gpx_path, filter + \"*.gpx\"))\n",
    "    run_data = []\n",
    "    counter = 0\n",
    "    for file_idx, gpx_file in enumerate(gpx_files): \n",
    "        gpx = gpxpy.parse(open(gpx_file, 'r'))\n",
    "        counter = counter + 1\n",
    "        # Loop through tracks\n",
    "        for track_idx, track in enumerate(gpx.tracks):\n",
    "            track_name = track.name\n",
    "            track_time = track.get_time_bounds().start_time\n",
    "            track_length = track.length_3d()\n",
    "            track_duration = track.get_duration()\n",
    "            track_speed = track.get_moving_data().max_speed\n",
    "            \n",
    "            for seg_idx, segment in enumerate(track.segments):\n",
    "                segment_length = segment.length_3d()\n",
    "                for point_idx, point in enumerate(segment.points):\n",
    "                    run_data.append([counter, os.path.basename(gpx_file), track_idx, track_name, \n",
    "                                     track_time, track_length, track_duration, track_speed, \n",
    "                                     seg_idx, segment_length, point.time, point.latitude, \n",
    "                                     point.longitude, point.elevation, segment.get_speed(point_idx)])\n",
    "    return run_data"
   ]
  },
  {
   "cell_type": "code",
   "execution_count": 92,
   "metadata": {
    "collapsed": false
   },
   "outputs": [],
   "source": [
    "rundata = load_run_data(gpx_path='./dat/run/', filter=\"\")\n",
    "ridedata = load_run_data(gpx_path='./dat/ride/', filter=\"\")\n",
    "\n",
    "df_run = DataFrame(rundata, columns=['File_Index', 'File_Name', 'Index', 'Name',\n",
    "                              'Time', 'Length', 'Duration', 'Max_Speed',\n",
    "                              'Segment_Index', 'Segment_Length', 'Point_Time', 'Point_Latitude',\n",
    "                              'Point_Longitude', 'Point_Elevation', 'Point_Speed'])\n",
    "\n",
    "df_ride = DataFrame(ridedata, columns=['File_Index', 'File_Name', 'Index', 'Name',\n",
    "                              'Time', 'Length', 'Duration', 'Max_Speed',\n",
    "                              'Segment_Index', 'Segment_Length', 'Point_Time', 'Point_Latitude',\n",
    "                              'Point_Longitude', 'Point_Elevation', 'Point_Speed'])\n",
    "\n",
    "cols = ['File_Index', 'Time', 'Length', 'Duration', 'Max_Speed']\n",
    "\n",
    "tracks_run = df_run[cols].copy()\n",
    "tracks_run['Length'] /= 1e3\n",
    "tracks_run.drop_duplicates(inplace=True)\n",
    "\n",
    "tracks_ride = df_ride[cols].copy()\n",
    "tracks_ride['Length'] /= 1e3\n",
    "tracks_ride.drop_duplicates(inplace=True)"
   ]
  },
  {
   "cell_type": "code",
   "execution_count": 93,
   "metadata": {
    "collapsed": false
   },
   "outputs": [],
   "source": [
    "# Find maximum value for the DataFrame and create an enumerated list of numbers 1 -> max, looping through this\n",
    "# to individually lay down routes.\n",
    "numSegs = df_run['File_Index'].max()\n",
    "seg_count_run = np.arange(1,numSegs + 1) # Second number is not inclusive\n",
    "\n",
    "numSegs = df_ride['File_Index'].max()\n",
    "seg_count_ride = np.arange(1,numSegs + 1) "
   ]
  },
  {
   "cell_type": "code",
   "execution_count": 94,
   "metadata": {
    "collapsed": false
   },
   "outputs": [],
   "source": [
    "# Only important if we want to make a quiver plot with vectors!\n",
    "\n",
    "#_, angles_run = sw.dist(df_run['Point_Latitude'], df_run['Point_Longitude'])\n",
    "#angles_run = np.r_[0, np.deg2rad(angles_run)]\n",
    "\n",
    "#_, angles_ride = sw.dist(df_ride['Point_Latitude'], df_ride['Point_Longitude'])\n",
    "#angles_ride = np.r_[0, np.deg2rad(angles_ride)]\n",
    "\n",
    "#r = df_run['Point_Speed'] / df_run['Point_Speed'].max()\n",
    "#kw = dict(window_len=31, window='hanning')\n",
    "#df_run['u'] = r * np.cos(angles_run)\n",
    "#df_run['v'] = r * np.sin(angles_run)\n",
    "\n",
    "#r = df_ride['Point_Speed'] / df_ride['Point_Speed'].max()\n",
    "#kw = dict(window_len=31, window='hanning')\n",
    "#df_ride['u'] = r * np.cos(angles_ride)\n",
    "#df_ride['v'] = r * np.sin(angles_ride)"
   ]
  },
  {
   "cell_type": "code",
   "execution_count": 96,
   "metadata": {
    "collapsed": false,
    "scrolled": true
   },
   "outputs": [],
   "source": [
    "fig, ax = plt.subplots()\n",
    "df_run = df_run.dropna() # Just drop columns with NaN... usually only the first.\n",
    "df_ride = df_ride.dropna()\n",
    "\n",
    "for idx in seg_count_run:\n",
    "    locs = df_run[df_run['File_Index'] == idx].index.tolist()\n",
    "    ax.plot(df_run['Point_Longitude'][locs], df_run['Point_Latitude'][locs],\n",
    "            color='#000080', linewidth=2, alpha=0.75)\n",
    "\n",
    "for idx in seg_count_ride:\n",
    "    locs = df_ride[df_ride['File_Index'] == idx].index.tolist()\n",
    "    ax.plot(df_ride['Point_Longitude'][locs], df_ride['Point_Latitude'][locs],\n",
    "            color='#C40000', linewidth=2, alpha=0.75)\n",
    "\n",
    "mplleaflet.show(fig=fig, tiles='stamen_toner') \n",
    "\n",
    "\n",
    "\n",
    "#df_ride = df_ride.dropna()\n",
    "\n",
    "#ax.plot(df_run['Point_Longitude'], df_run['Point_Latitude'],\n",
    "#        color='#000080', linewidth=2, alpha=0.75)\n",
    "\n",
    "#ax.plot(df_ride['Point_Longitude'], df_ride['Point_Latitude'],\n",
    "#        color='#C40000', linewidth=2, alpha=0.75)\n",
    "\n",
    "#sub = 10\n",
    "#ax.quiver(df['Point_Longitude'][::sub], df['Point_Latitude'][::sub],\n",
    "#          df['u'][::sub], df['v'][::sub], color='black',\n",
    "#          alpha=0.75, scale=None, headwidth=4)\n",
    "\n",
    "#mplleaflet.show(fig=fig, tiles='stamen_toner') "
   ]
  },
  {
   "cell_type": "code",
   "execution_count": null,
   "metadata": {
    "collapsed": true
   },
   "outputs": [],
   "source": []
  },
  {
   "cell_type": "code",
   "execution_count": null,
   "metadata": {
    "collapsed": true
   },
   "outputs": [],
   "source": []
  }
 ],
 "metadata": {
  "anaconda-cloud": {},
  "kernelspec": {
   "display_name": "Python [default]",
   "language": "python",
   "name": "python2"
  },
  "language_info": {
   "codemirror_mode": {
    "name": "ipython",
    "version": 2
   },
   "file_extension": ".py",
   "mimetype": "text/x-python",
   "name": "python",
   "nbconvert_exporter": "python",
   "pygments_lexer": "ipython2",
   "version": "2.7.12"
  }
 },
 "nbformat": 4,
 "nbformat_minor": 1
}
